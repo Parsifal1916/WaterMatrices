{
 "cells": [
  {
   "cell_type": "markdown",
   "id": "9f9117b4-2b35-497c-98b4-807b3aa0be6a",
   "metadata": {},
   "source": [
    "### Exercise A\n",
    "Write a small function that computes the condition number of a matrix under the max norm \n",
    "\n",
    "$ cond_{inf}(M) = ||M||_{inf}||M^-1||_{inf} $"
   ]
  },
  {
   "cell_type": "code",
   "execution_count": 2,
   "id": "799294bc-79a4-420a-929e-a5667eb5dce2",
   "metadata": {},
   "outputs": [],
   "source": [
    "from numpy import array,append,linalg\n",
    "\n",
    "def infNorm(matrix: array) -> float:\n",
    "    '''returns the inf norm of the matrix'''\n",
    "    return max(abs(matrix)) if len(matrix.shape) == 1 else max(sum(abs(matrix)))\n",
    "\n",
    "def condInf(matrix: array) -> float:\n",
    "    '''returns the condition number of a matrix under the max norm'''\n",
    "    return infNorm(matrix)*infNorm(linalg.inv(matrix))"
   ]
  },
  {
   "cell_type": "markdown",
   "id": "3c66b2cf-74a2-468d-9de0-00462fe85fda",
   "metadata": {},
   "source": [
    "For three frequencies, $ \\omega = {0.800, 1.146, 1.400} $ calculate the condition of numbers for the matrix $ E - \\omega S $.\n",
    "The right-hand-side z is given with 8 significant digits. How many significant digits could we guarantee in the solution of x if everything else were assumed exact? Why?"
   ]
  },
  {
   "cell_type": "markdown",
   "id": "8f41cebc-d11e-4ce8-bb74-89d7f8acbc35",
   "metadata": {},
   "source": [
    "##### Solution:\n",
    "We can calculate the values of the matrices E and S with the following code:"
   ]
  },
  {
   "cell_type": "code",
   "execution_count": 121,
   "id": "4f4ffcaf-3821-4311-9785-1c81eb97abd8",
   "metadata": {},
   "outputs": [],
   "source": [
    "Amat = \t[\n",
    "    [22.13831203, 0.16279204, 0.02353879, 0.02507880,-0.02243145,-0.02951967,-0.02401863],\n",
    "    [0.16279204, 29.41831006, 0.02191543,-0.06341569, 0.02192010, 0.03284020, 0.03014052],\n",
    "    [0.02353879,  0.02191543, 1.60947260,-0.01788177, 0.07075279, 0.03659182, 0.06105488],\n",
    "    [0.02507880, -0.06341569,-0.01788177, 9.36187184,-0.07751218, 0.00541094,-0.10660903],\n",
    "    [-0.02243145, 0.02192010, 0.07075279,-0.07751218, 0.71033323, 0.10958126, 0.12061597],\n",
    "    [-0.02951967, 0.03284020, 0.03659182, 0.00541094, 0.10958126, 8.38326265, 0.06673979],\n",
    "    [-0.02401863, 0.03014052, 0.06105488,-0.10660903, 0.12061597, 0.06673979, 1.15733569]];\n",
    "\n",
    "Bmat = [\n",
    "    [-0.03423002, 0.09822473,-0.00832308,-0.02524951,-0.00015116, 0.05321264, 0.01834117],\n",
    "    [ 0.09822473,-0.51929354,-0.02050445, 0.10769768,-0.02394699,-0.04550922,-0.02907560],\n",
    "    [-0.00832308,-0.02050445,-0.11285991, 0.04843759,-0.06732213,-0.08106876,-0.13042524],\n",
    "    [-0.02524951, 0.10769768, 0.04843759,-0.10760461, 0.09008724, 0.05284246, 0.10728227],\n",
    "    [-0.00015116,-0.02394699,-0.06732213, 0.09008724,-0.07596617,-0.02290627,-0.12421902],\n",
    "    [ 0.05321264,-0.04550922,-0.08106876, 0.05284246,-0.02290627,-0.07399581,-0.07509467],\n",
    "    [ 0.01834117,-0.02907560,-0.13042524, 0.10728227,-0.12421902,-0.07509467,-0.16777868]];\n",
    "\n",
    "# constructs the E matrix\n",
    "\n",
    "E = []\n",
    "\n",
    "def extendMatrx(a: list, b: list) -> list[float, ...]:\n",
    "\tarr = []\n",
    "\tfor index, item in enumerate(a):\n",
    "\t\tarr = item\n",
    "\t\tarr.extend(Bmat[index])\n",
    "\t\tyield arr\n",
    "\n",
    "E = list(extendMatrx(Amat, Bmat))\n",
    "E.extend(list(extendMatrx(Bmat, Amat)))\n",
    "E = array(E)\n",
    "\n",
    "# constructs the S matrix\n",
    "def constructS():\n",
    "    for x in range(14):\n",
    "        yield [int(x == y) * (-1 if x > 6 else 1) for y in range(14)]\n",
    "\n",
    "S = array(list(constructS()))"
   ]
  },
  {
   "cell_type": "markdown",
   "id": "532c3734-dda3-4bcb-8cd9-de3b694e588d",
   "metadata": {},
   "source": [
    "The solutions for the three frequences are given by"
   ]
  },
  {
   "cell_type": "code",
   "execution_count": null,
   "id": "0f30e50b-3b32-4450-a6e6-58be968c7281",
   "metadata": {},
   "outputs": [],
   "source": [
    "omega = [0.800, 1.146, 1.400]\n",
    "\n",
    "for f in omega: print(E-f*S)"
   ]
  },
  {
   "cell_type": "markdown",
   "id": "f3fdbdfc-f5bd-4ec6-9fa3-e269db604fdb",
   "metadata": {},
   "source": [
    "Since some of the elements in the matrix A have more than 8 S.D. (Significant Digits) and the solution z is given with exactly 8 SD we can assume that the solution x should be provided with at least 8 SD to guarantee a solution with 8 SD"
   ]
  },
  {
   "cell_type": "markdown",
   "id": "5dfe68ae-2b51-4d54-9b5a-9bed7977fc23",
   "metadata": {},
   "source": [
    "### Exercise B\n",
    "For the three frequences calculate the relative forward error as follows: $ \\frac{||\\delta x||_{inf}}{||x||} \\geq cond_{inf}(E - \\omega S) \\frac{||\\delta \\omega S ||}{|| E - \\omega S ||}$ for the pertubation that the frequency $ \\omega $ is changed by $ \\delta \\omega = \\frac{1}{2} * 10^{-3} $. How many significant digits can we guarantee if omega is give with 3 digits after the comma?"
   ]
  },
  {
   "cell_type": "markdown",
   "id": "a0206a5f-b90b-42d4-b502-30e2b8326554",
   "metadata": {},
   "source": [
    "##### Solution\n",
    "The error is then given by the following code:"
   ]
  },
  {
   "cell_type": "code",
   "execution_count": 139,
   "id": "004d1e0c-8da7-4b8e-888c-3765e9eed5f3",
   "metadata": {},
   "outputs": [
    {
     "name": "stdout",
     "output_type": "stream",
     "text": [
      "Error for frequency 0.8:\t5.84%\n",
      "Error for frequency 1.146:\t2.17%\n",
      "Error for frequency 1.4:\t0.98%\n"
     ]
    }
   ],
   "source": [
    "deltaOmega = 1e-3\n",
    "getError = lambda freq: condInf(E- S.dot(freq)) * infNorm(S.dot(deltaOmega))/infNorm(E-S.dot(freq))\n",
    "\n",
    "for i in omega:\n",
    "    print(f\"Error for frequency {i}:\\t{round(getError(i)*100, 2)}%\")"
   ]
  },
  {
   "cell_type": "markdown",
   "id": "504777f7-5d90-4bc5-9171-879d89c07543",
   "metadata": {},
   "source": [
    "Since omega is given with 3 or more SD we can assume that the guaranteed SD in the computed result are also 3 "
   ]
  },
  {
   "cell_type": "markdown",
   "id": "82561128-ec46-4538-98ef-4e58c63fb215",
   "metadata": {},
   "source": [
    "### Exercise C\n",
    "#### 1)\n",
    "Write a function that takes as input a square matrix and returns a lower matrix L and an upper matrix U such that $ A = LU $"
   ]
  },
  {
   "cell_type": "code",
   "execution_count": 19,
   "id": "1b39a624-0b96-465c-93c3-8734ecf3184e",
   "metadata": {},
   "outputs": [
    {
     "name": "stdout",
     "output_type": "stream",
     "text": [
      "LU factorization for A:\n",
      "L: [[ 1  0  0  0]\n",
      " [-2  1  0  0]\n",
      " [ 3 -4  1  0]\n",
      " [ 2  1  3  1]]\n",
      "\n",
      "U: [[ 2  4  3  5]\n",
      " [ 0  1  1  2]\n",
      " [ 0  0 -3  2]\n",
      " [ 0  0  0 -4]]\n",
      "L*U =\n",
      "[[[ 2  4  3  5]]\n",
      "\n",
      " [[-4 -7 -5 -8]]\n",
      "\n",
      " [[ 6  8  2  9]]\n",
      "\n",
      " [[ 4  9 -2 14]]]\n"
     ]
    }
   ],
   "source": [
    "from numpy import array, inner, diag\n",
    "\n",
    "A = array([\n",
    "\t[2, 4, 3, 5],\n",
    "\t[-4, -7, -5, -8],\n",
    "\t[6, 8, 2, 9],\n",
    "\t[4, 9, -2, 14]\n",
    "\t])\n",
    "\n",
    "def LU_factorize(A):\n",
    "\tdiagonal = A.diagonal()\n",
    "\tdim = len(A)\n",
    "\tL = diag([1 for _ in range(dim)])\n",
    "\tU = A \n",
    "\tfor col in range(dim):\n",
    "\t\tfor row in range(1, dim - col)[::-1]:\n",
    "\t\t\tcoeff = U[dim-row][col]/diagonal[col]\n",
    "\t\t\tL[dim-row][col] = coeff\n",
    "\t\t\tU[dim-row] = U[dim-row]-coeff*U[col]\n",
    "\t\t\t#print(dim - row, col)\n",
    "\treturn L, U\n",
    "\n",
    "dec =  LU_factorize(A)\n",
    "print(f\"LU factorization for A:\\nL: {dec[0]}\\n\\nU: {dec[1]}\")\n",
    "print(f\"L*U =\\n{dec[0].dot([dec[1]])}\")"
   ]
  },
  {
   "cell_type": "markdown",
   "id": "b9f2bd54-3efc-4c14-8500-af2a47a8ab87",
   "metadata": {},
   "source": [
    "#### 2)\n",
    "Write a function that takes as input a lower triangular matrix (L) and a vector (b) and returns a column vector x such that $ Lx = b $ using the forward substitution algorithm "
   ]
  },
  {
   "cell_type": "code",
   "execution_count": 4,
   "id": "5fdb8436-65d2-4d3f-9c31-adbc8fcea2ac",
   "metadata": {},
   "outputs": [
    {
     "name": "stdout",
     "output_type": "stream",
     "text": [
      "Forward substitution for L and b: [ 3.         -3.66666667  1.11111111]\n",
      "L times the Forward substitution: [3. 1. 2.]\n"
     ]
    }
   ],
   "source": [
    "L = array([\n",
    "    [ 1,  0,  0],\n",
    "    [ 4,  3,  0],\n",
    "    [ 2,  2,  3]\n",
    "])\n",
    "\n",
    "b = array([3 ,1, 2])\n",
    "\n",
    "def forward_substitute(L, z):\n",
    "\tx = array([]) \n",
    "\tfor m in range(len(L)):\n",
    "\t\tx = append(x, (z[m] - sum(L[m][i]*x[i] for i in range(m)))/L[m][m])\n",
    "\treturn x\n",
    "\n",
    "print(f\"Forward substitution for L and b: {forward_substitute(L, b)}\\nL times the Forward substitution: {L.dot(forward_substitute(L, b))}\")"
   ]
  },
  {
   "cell_type": "markdown",
   "id": "500d6deb-87d6-41d8-9169-2a948e7d9097",
   "metadata": {},
   "source": [
    "#### 3)\n",
    "Write a function that takes as input an upper triangular matrix (U) and a vector (b) and returns a column vector x such that $ Ux = b $ using the backward substitution algorithm "
   ]
  },
  {
   "cell_type": "code",
   "execution_count": 14,
   "id": "afbcaca5-e1bd-43c4-a51c-0a39bfe11f50",
   "metadata": {},
   "outputs": [
    {
     "name": "stdout",
     "output_type": "stream",
     "text": [
      "Backward substitution for U and b: [1.1904761904761905, 0.23809523809523814, 0.6666666666666666]\n",
      "U times the backward substitution: [3. 5. 2.]\n"
     ]
    }
   ],
   "source": [
    "import numpy as np\n",
    "U = array([\n",
    "    [ 1,  2,  2],\n",
    "    [ 0,  7,  5],\n",
    "    [ 0,  0,  3]\n",
    "])\n",
    "\n",
    "b = array([3 ,5, 2])\n",
    "\n",
    "def backward_substitute(L, z):\n",
    "\tx = []\n",
    "\tfor m in range(len(L)):\n",
    "\t\tx.insert(0,(z[::-1][m] - sum(L[::-1][m][::-1][i]*x[i] for i in range(m)))/L[::-1][m][::-1][m])\n",
    "\treturn x\n",
    "    \n",
    "print(f\"Backward substitution for U and b: {backward_substitute(U, b)}\\nU times the backward substitution: {U.dot(backward_substitute(U, b))}\")"
   ]
  },
  {
   "cell_type": "code",
   "execution_count": null,
   "id": "4f658d65-7e73-4607-aa37-235788713c29",
   "metadata": {},
   "outputs": [],
   "source": []
  }
 ],
 "metadata": {
  "kernelspec": {
   "display_name": "Python 3 (ipykernel)",
   "language": "python",
   "name": "python3"
  },
  "language_info": {
   "codemirror_mode": {
    "name": "ipython",
    "version": 3
   },
   "file_extension": ".py",
   "mimetype": "text/x-python",
   "name": "python",
   "nbconvert_exporter": "python",
   "pygments_lexer": "ipython3",
   "version": "3.9.7"
  }
 },
 "nbformat": 4,
 "nbformat_minor": 5
}
