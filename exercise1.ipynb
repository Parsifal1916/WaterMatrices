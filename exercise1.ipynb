{
 "cells": [
  {
   "cell_type": "markdown",
   "id": "9f9117b4-2b35-497c-98b4-807b3aa0be6a",
   "metadata": {},
   "source": [
    "### Exercise A\n",
    "Write a small function that computes the condition number of a matrix under the max norm \n",
    "\n",
    "$ cond_{inf}(M) = ||M||_{inf}||M^-1||_{inf} $"
   ]
  },
  {
   "cell_type": "code",
   "execution_count": 1,
   "id": "799294bc-79a4-420a-929e-a5667eb5dce2",
   "metadata": {},
   "outputs": [],
   "source": [
    "from numpy import array,append,linalg\n",
    "\n",
    "def infNorm(matrix: array) -> float:\n",
    "    '''returns the inf norm of the matrix'''\n",
    "    return max(abs(matrix)) if len(matrix.shape) == 1 else max(sum(abs(matrix)))\n",
    "\n",
    "def condInf(matrix: array) -> float:\n",
    "    '''returns the condition number of a matrix under the max norm'''\n",
    "    return infNorm(matrix)*infNorm(linalg.inv(matrix))"
   ]
  },
  {
   "cell_type": "markdown",
   "id": "3c66b2cf-74a2-468d-9de0-00462fe85fda",
   "metadata": {},
   "source": [
    "For three frequencies, $ \\omega = {0.800, 1.146, 1.400} $ calculate the condition of numbers for the matrix $ E - \\omega S $.\n",
    "The right-hand-side z is given with 8 significant digits. How many significant digits could we guarantee in the solution of x if everything else were assumed exact? Why?"
   ]
  },
  {
   "cell_type": "markdown",
   "id": "8f41cebc-d11e-4ce8-bb74-89d7f8acbc35",
   "metadata": {},
   "source": [
    "##### Solution:\n",
    "We can calculate the values of the matrices E and S with the following code:"
   ]
  },
  {
   "cell_type": "code",
   "execution_count": 2,
   "id": "4f4ffcaf-3821-4311-9785-1c81eb97abd8",
   "metadata": {},
   "outputs": [],
   "source": [
    "import numpy as np\n",
    "\n",
    "Amat = \tnp.array([\n",
    "    [22.13831203, 0.16279204, 0.02353879, 0.02507880,-0.02243145,-0.02951967,-0.02401863],\n",
    "    [0.16279204, 29.41831006, 0.02191543,-0.06341569, 0.02192010, 0.03284020, 0.03014052],\n",
    "    [0.02353879,  0.02191543, 1.60947260,-0.01788177, 0.07075279, 0.03659182, 0.06105488],\n",
    "    [0.02507880, -0.06341569,-0.01788177, 9.36187184,-0.07751218, 0.00541094,-0.10660903],\n",
    "    [-0.02243145, 0.02192010, 0.07075279,-0.07751218, 0.71033323, 0.10958126, 0.12061597],\n",
    "    [-0.02951967, 0.03284020, 0.03659182, 0.00541094, 0.10958126, 8.38326265, 0.06673979],\n",
    "    [-0.02401863, 0.03014052, 0.06105488,-0.10660903, 0.12061597, 0.06673979, 1.15733569]]);\n",
    "\n",
    "Bmat = np.array([\n",
    "    [-0.03423002, 0.09822473,-0.00832308,-0.02524951,-0.00015116, 0.05321264, 0.01834117],\n",
    "    [ 0.09822473,-0.51929354,-0.02050445, 0.10769768,-0.02394699,-0.04550922,-0.02907560],\n",
    "    [-0.00832308,-0.02050445,-0.11285991, 0.04843759,-0.06732213,-0.08106876,-0.13042524],\n",
    "    [-0.02524951, 0.10769768, 0.04843759,-0.10760461, 0.09008724, 0.05284246, 0.10728227],\n",
    "    [-0.00015116,-0.02394699,-0.06732213, 0.09008724,-0.07596617,-0.02290627,-0.12421902],\n",
    "    [ 0.05321264,-0.04550922,-0.08106876, 0.05284246,-0.02290627,-0.07399581,-0.07509467],\n",
    "    [ 0.01834117,-0.02907560,-0.13042524, 0.10728227,-0.12421902,-0.07509467,-0.16777868]]);\n",
    "\n",
    "yvec= np.array([-0.05677315,-0.00902581, 0.16002152, 0.07001784, 0.67801388,-0.10904168, 0.90505180]);\n",
    "\n",
    "# constructs the E matrix\n",
    "E = np.block([[Amat, Bmat],[Bmat, Amat]])\n",
    "# constructs the S matrix\n",
    "S = np.diag([1,1,1,1,1,1,1,-1,-1,-1,-1,-1,-1,-1])\n",
    "# constructs the z vector\n",
    "z = np.block([[yvec], [-yvec]])"
   ]
  },
  {
   "cell_type": "markdown",
   "id": "532c3734-dda3-4bcb-8cd9-de3b694e588d",
   "metadata": {},
   "source": [
    "The solutions for the three frequences are given by"
   ]
  },
  {
   "cell_type": "code",
   "execution_count": 3,
   "id": "0f30e50b-3b32-4450-a6e6-58be968c7281",
   "metadata": {},
   "outputs": [
    {
     "name": "stdout",
     "output_type": "stream",
     "text": [
      "[[ 2.13383120e+01  1.62792040e-01  2.35387900e-02  2.50788000e-02\n",
      "  -2.24314500e-02 -2.95196700e-02 -2.40186300e-02 -3.42300200e-02\n",
      "   9.82247300e-02 -8.32308000e-03 -2.52495100e-02 -1.51160000e-04\n",
      "   5.32126400e-02  1.83411700e-02]\n",
      " [ 1.62792040e-01  2.86183101e+01  2.19154300e-02 -6.34156900e-02\n",
      "   2.19201000e-02  3.28402000e-02  3.01405200e-02  9.82247300e-02\n",
      "  -5.19293540e-01 -2.05044500e-02  1.07697680e-01 -2.39469900e-02\n",
      "  -4.55092200e-02 -2.90756000e-02]\n",
      " [ 2.35387900e-02  2.19154300e-02  8.09472600e-01 -1.78817700e-02\n",
      "   7.07527900e-02  3.65918200e-02  6.10548800e-02 -8.32308000e-03\n",
      "  -2.05044500e-02 -1.12859910e-01  4.84375900e-02 -6.73221300e-02\n",
      "  -8.10687600e-02 -1.30425240e-01]\n",
      " [ 2.50788000e-02 -6.34156900e-02 -1.78817700e-02  8.56187184e+00\n",
      "  -7.75121800e-02  5.41094000e-03 -1.06609030e-01 -2.52495100e-02\n",
      "   1.07697680e-01  4.84375900e-02 -1.07604610e-01  9.00872400e-02\n",
      "   5.28424600e-02  1.07282270e-01]\n",
      " [-2.24314500e-02  2.19201000e-02  7.07527900e-02 -7.75121800e-02\n",
      "  -8.96667700e-02  1.09581260e-01  1.20615970e-01 -1.51160000e-04\n",
      "  -2.39469900e-02 -6.73221300e-02  9.00872400e-02 -7.59661700e-02\n",
      "  -2.29062700e-02 -1.24219020e-01]\n",
      " [-2.95196700e-02  3.28402000e-02  3.65918200e-02  5.41094000e-03\n",
      "   1.09581260e-01  7.58326265e+00  6.67397900e-02  5.32126400e-02\n",
      "  -4.55092200e-02 -8.10687600e-02  5.28424600e-02 -2.29062700e-02\n",
      "  -7.39958100e-02 -7.50946700e-02]\n",
      " [-2.40186300e-02  3.01405200e-02  6.10548800e-02 -1.06609030e-01\n",
      "   1.20615970e-01  6.67397900e-02  3.57335690e-01  1.83411700e-02\n",
      "  -2.90756000e-02 -1.30425240e-01  1.07282270e-01 -1.24219020e-01\n",
      "  -7.50946700e-02 -1.67778680e-01]\n",
      " [-3.42300200e-02  9.82247300e-02 -8.32308000e-03 -2.52495100e-02\n",
      "  -1.51160000e-04  5.32126400e-02  1.83411700e-02  2.29383120e+01\n",
      "   1.62792040e-01  2.35387900e-02  2.50788000e-02 -2.24314500e-02\n",
      "  -2.95196700e-02 -2.40186300e-02]\n",
      " [ 9.82247300e-02 -5.19293540e-01 -2.05044500e-02  1.07697680e-01\n",
      "  -2.39469900e-02 -4.55092200e-02 -2.90756000e-02  1.62792040e-01\n",
      "   3.02183101e+01  2.19154300e-02 -6.34156900e-02  2.19201000e-02\n",
      "   3.28402000e-02  3.01405200e-02]\n",
      " [-8.32308000e-03 -2.05044500e-02 -1.12859910e-01  4.84375900e-02\n",
      "  -6.73221300e-02 -8.10687600e-02 -1.30425240e-01  2.35387900e-02\n",
      "   2.19154300e-02  2.40947260e+00 -1.78817700e-02  7.07527900e-02\n",
      "   3.65918200e-02  6.10548800e-02]\n",
      " [-2.52495100e-02  1.07697680e-01  4.84375900e-02 -1.07604610e-01\n",
      "   9.00872400e-02  5.28424600e-02  1.07282270e-01  2.50788000e-02\n",
      "  -6.34156900e-02 -1.78817700e-02  1.01618718e+01 -7.75121800e-02\n",
      "   5.41094000e-03 -1.06609030e-01]\n",
      " [-1.51160000e-04 -2.39469900e-02 -6.73221300e-02  9.00872400e-02\n",
      "  -7.59661700e-02 -2.29062700e-02 -1.24219020e-01 -2.24314500e-02\n",
      "   2.19201000e-02  7.07527900e-02 -7.75121800e-02  1.51033323e+00\n",
      "   1.09581260e-01  1.20615970e-01]\n",
      " [ 5.32126400e-02 -4.55092200e-02 -8.10687600e-02  5.28424600e-02\n",
      "  -2.29062700e-02 -7.39958100e-02 -7.50946700e-02 -2.95196700e-02\n",
      "   3.28402000e-02  3.65918200e-02  5.41094000e-03  1.09581260e-01\n",
      "   9.18326265e+00  6.67397900e-02]\n",
      " [ 1.83411700e-02 -2.90756000e-02 -1.30425240e-01  1.07282270e-01\n",
      "  -1.24219020e-01 -7.50946700e-02 -1.67778680e-01 -2.40186300e-02\n",
      "   3.01405200e-02  6.10548800e-02 -1.06609030e-01  1.20615970e-01\n",
      "   6.67397900e-02  1.95733569e+00]]\n",
      "[[ 2.09923120e+01  1.62792040e-01  2.35387900e-02  2.50788000e-02\n",
      "  -2.24314500e-02 -2.95196700e-02 -2.40186300e-02 -3.42300200e-02\n",
      "   9.82247300e-02 -8.32308000e-03 -2.52495100e-02 -1.51160000e-04\n",
      "   5.32126400e-02  1.83411700e-02]\n",
      " [ 1.62792040e-01  2.82723101e+01  2.19154300e-02 -6.34156900e-02\n",
      "   2.19201000e-02  3.28402000e-02  3.01405200e-02  9.82247300e-02\n",
      "  -5.19293540e-01 -2.05044500e-02  1.07697680e-01 -2.39469900e-02\n",
      "  -4.55092200e-02 -2.90756000e-02]\n",
      " [ 2.35387900e-02  2.19154300e-02  4.63472600e-01 -1.78817700e-02\n",
      "   7.07527900e-02  3.65918200e-02  6.10548800e-02 -8.32308000e-03\n",
      "  -2.05044500e-02 -1.12859910e-01  4.84375900e-02 -6.73221300e-02\n",
      "  -8.10687600e-02 -1.30425240e-01]\n",
      " [ 2.50788000e-02 -6.34156900e-02 -1.78817700e-02  8.21587184e+00\n",
      "  -7.75121800e-02  5.41094000e-03 -1.06609030e-01 -2.52495100e-02\n",
      "   1.07697680e-01  4.84375900e-02 -1.07604610e-01  9.00872400e-02\n",
      "   5.28424600e-02  1.07282270e-01]\n",
      " [-2.24314500e-02  2.19201000e-02  7.07527900e-02 -7.75121800e-02\n",
      "  -4.35666770e-01  1.09581260e-01  1.20615970e-01 -1.51160000e-04\n",
      "  -2.39469900e-02 -6.73221300e-02  9.00872400e-02 -7.59661700e-02\n",
      "  -2.29062700e-02 -1.24219020e-01]\n",
      " [-2.95196700e-02  3.28402000e-02  3.65918200e-02  5.41094000e-03\n",
      "   1.09581260e-01  7.23726265e+00  6.67397900e-02  5.32126400e-02\n",
      "  -4.55092200e-02 -8.10687600e-02  5.28424600e-02 -2.29062700e-02\n",
      "  -7.39958100e-02 -7.50946700e-02]\n",
      " [-2.40186300e-02  3.01405200e-02  6.10548800e-02 -1.06609030e-01\n",
      "   1.20615970e-01  6.67397900e-02  1.13356900e-02  1.83411700e-02\n",
      "  -2.90756000e-02 -1.30425240e-01  1.07282270e-01 -1.24219020e-01\n",
      "  -7.50946700e-02 -1.67778680e-01]\n",
      " [-3.42300200e-02  9.82247300e-02 -8.32308000e-03 -2.52495100e-02\n",
      "  -1.51160000e-04  5.32126400e-02  1.83411700e-02  2.32843120e+01\n",
      "   1.62792040e-01  2.35387900e-02  2.50788000e-02 -2.24314500e-02\n",
      "  -2.95196700e-02 -2.40186300e-02]\n",
      " [ 9.82247300e-02 -5.19293540e-01 -2.05044500e-02  1.07697680e-01\n",
      "  -2.39469900e-02 -4.55092200e-02 -2.90756000e-02  1.62792040e-01\n",
      "   3.05643101e+01  2.19154300e-02 -6.34156900e-02  2.19201000e-02\n",
      "   3.28402000e-02  3.01405200e-02]\n",
      " [-8.32308000e-03 -2.05044500e-02 -1.12859910e-01  4.84375900e-02\n",
      "  -6.73221300e-02 -8.10687600e-02 -1.30425240e-01  2.35387900e-02\n",
      "   2.19154300e-02  2.75547260e+00 -1.78817700e-02  7.07527900e-02\n",
      "   3.65918200e-02  6.10548800e-02]\n",
      " [-2.52495100e-02  1.07697680e-01  4.84375900e-02 -1.07604610e-01\n",
      "   9.00872400e-02  5.28424600e-02  1.07282270e-01  2.50788000e-02\n",
      "  -6.34156900e-02 -1.78817700e-02  1.05078718e+01 -7.75121800e-02\n",
      "   5.41094000e-03 -1.06609030e-01]\n",
      " [-1.51160000e-04 -2.39469900e-02 -6.73221300e-02  9.00872400e-02\n",
      "  -7.59661700e-02 -2.29062700e-02 -1.24219020e-01 -2.24314500e-02\n",
      "   2.19201000e-02  7.07527900e-02 -7.75121800e-02  1.85633323e+00\n",
      "   1.09581260e-01  1.20615970e-01]\n",
      " [ 5.32126400e-02 -4.55092200e-02 -8.10687600e-02  5.28424600e-02\n",
      "  -2.29062700e-02 -7.39958100e-02 -7.50946700e-02 -2.95196700e-02\n",
      "   3.28402000e-02  3.65918200e-02  5.41094000e-03  1.09581260e-01\n",
      "   9.52926265e+00  6.67397900e-02]\n",
      " [ 1.83411700e-02 -2.90756000e-02 -1.30425240e-01  1.07282270e-01\n",
      "  -1.24219020e-01 -7.50946700e-02 -1.67778680e-01 -2.40186300e-02\n",
      "   3.01405200e-02  6.10548800e-02 -1.06609030e-01  1.20615970e-01\n",
      "   6.67397900e-02  2.30333569e+00]]\n",
      "[[ 2.07383120e+01  1.62792040e-01  2.35387900e-02  2.50788000e-02\n",
      "  -2.24314500e-02 -2.95196700e-02 -2.40186300e-02 -3.42300200e-02\n",
      "   9.82247300e-02 -8.32308000e-03 -2.52495100e-02 -1.51160000e-04\n",
      "   5.32126400e-02  1.83411700e-02]\n",
      " [ 1.62792040e-01  2.80183101e+01  2.19154300e-02 -6.34156900e-02\n",
      "   2.19201000e-02  3.28402000e-02  3.01405200e-02  9.82247300e-02\n",
      "  -5.19293540e-01 -2.05044500e-02  1.07697680e-01 -2.39469900e-02\n",
      "  -4.55092200e-02 -2.90756000e-02]\n",
      " [ 2.35387900e-02  2.19154300e-02  2.09472600e-01 -1.78817700e-02\n",
      "   7.07527900e-02  3.65918200e-02  6.10548800e-02 -8.32308000e-03\n",
      "  -2.05044500e-02 -1.12859910e-01  4.84375900e-02 -6.73221300e-02\n",
      "  -8.10687600e-02 -1.30425240e-01]\n",
      " [ 2.50788000e-02 -6.34156900e-02 -1.78817700e-02  7.96187184e+00\n",
      "  -7.75121800e-02  5.41094000e-03 -1.06609030e-01 -2.52495100e-02\n",
      "   1.07697680e-01  4.84375900e-02 -1.07604610e-01  9.00872400e-02\n",
      "   5.28424600e-02  1.07282270e-01]\n",
      " [-2.24314500e-02  2.19201000e-02  7.07527900e-02 -7.75121800e-02\n",
      "  -6.89666770e-01  1.09581260e-01  1.20615970e-01 -1.51160000e-04\n",
      "  -2.39469900e-02 -6.73221300e-02  9.00872400e-02 -7.59661700e-02\n",
      "  -2.29062700e-02 -1.24219020e-01]\n",
      " [-2.95196700e-02  3.28402000e-02  3.65918200e-02  5.41094000e-03\n",
      "   1.09581260e-01  6.98326265e+00  6.67397900e-02  5.32126400e-02\n",
      "  -4.55092200e-02 -8.10687600e-02  5.28424600e-02 -2.29062700e-02\n",
      "  -7.39958100e-02 -7.50946700e-02]\n",
      " [-2.40186300e-02  3.01405200e-02  6.10548800e-02 -1.06609030e-01\n",
      "   1.20615970e-01  6.67397900e-02 -2.42664310e-01  1.83411700e-02\n",
      "  -2.90756000e-02 -1.30425240e-01  1.07282270e-01 -1.24219020e-01\n",
      "  -7.50946700e-02 -1.67778680e-01]\n",
      " [-3.42300200e-02  9.82247300e-02 -8.32308000e-03 -2.52495100e-02\n",
      "  -1.51160000e-04  5.32126400e-02  1.83411700e-02  2.35383120e+01\n",
      "   1.62792040e-01  2.35387900e-02  2.50788000e-02 -2.24314500e-02\n",
      "  -2.95196700e-02 -2.40186300e-02]\n",
      " [ 9.82247300e-02 -5.19293540e-01 -2.05044500e-02  1.07697680e-01\n",
      "  -2.39469900e-02 -4.55092200e-02 -2.90756000e-02  1.62792040e-01\n",
      "   3.08183101e+01  2.19154300e-02 -6.34156900e-02  2.19201000e-02\n",
      "   3.28402000e-02  3.01405200e-02]\n",
      " [-8.32308000e-03 -2.05044500e-02 -1.12859910e-01  4.84375900e-02\n",
      "  -6.73221300e-02 -8.10687600e-02 -1.30425240e-01  2.35387900e-02\n",
      "   2.19154300e-02  3.00947260e+00 -1.78817700e-02  7.07527900e-02\n",
      "   3.65918200e-02  6.10548800e-02]\n",
      " [-2.52495100e-02  1.07697680e-01  4.84375900e-02 -1.07604610e-01\n",
      "   9.00872400e-02  5.28424600e-02  1.07282270e-01  2.50788000e-02\n",
      "  -6.34156900e-02 -1.78817700e-02  1.07618718e+01 -7.75121800e-02\n",
      "   5.41094000e-03 -1.06609030e-01]\n",
      " [-1.51160000e-04 -2.39469900e-02 -6.73221300e-02  9.00872400e-02\n",
      "  -7.59661700e-02 -2.29062700e-02 -1.24219020e-01 -2.24314500e-02\n",
      "   2.19201000e-02  7.07527900e-02 -7.75121800e-02  2.11033323e+00\n",
      "   1.09581260e-01  1.20615970e-01]\n",
      " [ 5.32126400e-02 -4.55092200e-02 -8.10687600e-02  5.28424600e-02\n",
      "  -2.29062700e-02 -7.39958100e-02 -7.50946700e-02 -2.95196700e-02\n",
      "   3.28402000e-02  3.65918200e-02  5.41094000e-03  1.09581260e-01\n",
      "   9.78326265e+00  6.67397900e-02]\n",
      " [ 1.83411700e-02 -2.90756000e-02 -1.30425240e-01  1.07282270e-01\n",
      "  -1.24219020e-01 -7.50946700e-02 -1.67778680e-01 -2.40186300e-02\n",
      "   3.01405200e-02  6.10548800e-02 -1.06609030e-01  1.20615970e-01\n",
      "   6.67397900e-02  2.55733569e+00]]\n"
     ]
    }
   ],
   "source": [
    "omega = [0.800, 1.146, 1.400]\n",
    "\n",
    "for f in omega: print(E-f*S)"
   ]
  },
  {
   "cell_type": "markdown",
   "id": "f3fdbdfc-f5bd-4ec6-9fa3-e269db604fdb",
   "metadata": {},
   "source": [
    "Since some of the elements in the matrix A have more than 8 S.D. (Significant Digits) and the solution z is given with exactly 8 SD we can assume that the solution x should be provided with at least 8 SD to guarantee a solution with 8 SD"
   ]
  },
  {
   "cell_type": "markdown",
   "id": "5dfe68ae-2b51-4d54-9b5a-9bed7977fc23",
   "metadata": {},
   "source": [
    "### Exercise B\n",
    "For the three frequences calculate the relative forward error as follows: $ \\frac{||\\delta x||_{inf}}{||x||} \\geq cond_{inf}(E - \\omega S) \\frac{||\\delta \\omega S ||}{|| E - \\omega S ||}$ for the pertubation that the frequency $ \\omega $ is changed by $ \\delta \\omega = \\frac{1}{2} * 10^{-3} $. How many significant digits can we guarantee if omega is give with 3 digits after the comma?"
   ]
  },
  {
   "cell_type": "markdown",
   "id": "a0206a5f-b90b-42d4-b502-30e2b8326554",
   "metadata": {},
   "source": [
    "##### Solution\n",
    "The error is then given by the following code:"
   ]
  },
  {
   "cell_type": "code",
   "execution_count": 4,
   "id": "004d1e0c-8da7-4b8e-888c-3765e9eed5f3",
   "metadata": {},
   "outputs": [
    {
     "name": "stdout",
     "output_type": "stream",
     "text": [
      "Error for frequency 0.8:\t1.04%\n",
      "Error for frequency 1.146:\t481.01%\n",
      "Error for frequency 1.4:\t0.71%\n"
     ]
    }
   ],
   "source": [
    "deltaOmega = 1e-3\n",
    "getError = lambda freq: condInf(E- S.dot(freq)) * infNorm(S.dot(deltaOmega))/infNorm(E-S.dot(freq))\n",
    "\n",
    "for i in omega:\n",
    "    print(f\"Error for frequency {i}:\\t{round(getError(i)*100, 2)}%\")"
   ]
  },
  {
   "cell_type": "markdown",
   "id": "504777f7-5d90-4bc5-9171-879d89c07543",
   "metadata": {},
   "source": [
    "Since omega is given with 3 or more SD we can assume that the guaranteed SD in the computed result are also 3 "
   ]
  },
  {
   "cell_type": "markdown",
   "id": "82561128-ec46-4538-98ef-4e58c63fb215",
   "metadata": {},
   "source": [
    "### Exercise C\n",
    "#### 1)\n",
    "Write a function that takes as input a square matrix and returns a lower matrix L and an upper matrix U such that $ A = LU $"
   ]
  },
  {
   "cell_type": "code",
   "execution_count": 5,
   "id": "1b39a624-0b96-465c-93c3-8734ecf3184e",
   "metadata": {},
   "outputs": [
    {
     "name": "stdout",
     "output_type": "stream",
     "text": [
      "LU factorization for A:\n",
      "L: [[ 1  0  0  0]\n",
      " [-2  1  0  0]\n",
      " [ 3 -4  1  0]\n",
      " [ 2  1  3  1]]\n",
      "\n",
      "U: [[ 2  4  3  5]\n",
      " [ 0  1  1  2]\n",
      " [ 0  0 -3  2]\n",
      " [ 0  0  0 -4]]\n",
      "L*U =\n",
      "[[[ 2  4  3  5]]\n",
      "\n",
      " [[-4 -7 -5 -8]]\n",
      "\n",
      " [[ 6  8  2  9]]\n",
      "\n",
      " [[ 4  9 -2 14]]]\n"
     ]
    }
   ],
   "source": [
    "from numpy import array, inner, diag\n",
    "\n",
    "A = array([\n",
    "\t[2, 4, 3, 5],\n",
    "\t[-4, -7, -5, -8],\n",
    "\t[6, 8, 2, 9],\n",
    "\t[4, 9, -2, 14]\n",
    "\t])\n",
    "\n",
    "def LU_factorize(A):\n",
    "    # uses pivot\n",
    "\tdiagonal = A.diagonal()\n",
    "\tdim = len(A)\n",
    "\tL = diag([1 for _ in range(dim)])\n",
    "\tU = A \n",
    "\tfor col in range(dim):\n",
    "\t\tfor row in range(1, dim - col)[::-1]:\n",
    "\t\t\tcoeff = U[dim-row][col]/diagonal[col]\n",
    "\t\t\tL[dim-row][col] = coeff\n",
    "\t\t\tU[dim-row] = U[dim-row]-coeff*U[col]\n",
    "\t\t\t#print(dim - row, col)\n",
    "\treturn L, U\n",
    "\n",
    "dec =  LU_factorize(A)\n",
    "print(f\"LU factorization for A:\\nL: {dec[0]}\\n\\nU: {dec[1]}\")\n",
    "print(f\"L*U =\\n{dec[0].dot([dec[1]])}\")"
   ]
  },
  {
   "cell_type": "markdown",
   "id": "b9f2bd54-3efc-4c14-8500-af2a47a8ab87",
   "metadata": {},
   "source": [
    "#### 2)\n",
    "Write a function that takes as input a lower triangular matrix (L) and a vector (b) and returns a column vector x such that $ Lx = b $ using the forward substitution algorithm "
   ]
  },
  {
   "cell_type": "code",
   "execution_count": 6,
   "id": "5fdb8436-65d2-4d3f-9c31-adbc8fcea2ac",
   "metadata": {},
   "outputs": [
    {
     "name": "stdout",
     "output_type": "stream",
     "text": [
      "Forward substitution for L and b: [ 3.         -3.66666667  1.11111111]\n",
      "L times the Forward substitution: [3. 1. 2.]\n"
     ]
    }
   ],
   "source": [
    "L = array([\n",
    "    [ 1,  0,  0],\n",
    "    [ 4,  3,  0],\n",
    "    [ 2,  2,  3]\n",
    "])\n",
    "\n",
    "b = array([3 ,1, 2])\n",
    "\n",
    "def forward_substitute(L, z):\n",
    "\tx = array([]) \n",
    "\tfor m in range(len(L)):\n",
    "\t\tx = append(x, (z[m] - sum(L[m][i]*x[i] for i in range(m)))/L[m][m])\n",
    "\treturn x\n",
    "\n",
    "print(f\"Forward substitution for L and b: {forward_substitute(L, b)}\\nL times the Forward substitution: {L.dot(forward_substitute(L, b))}\")"
   ]
  },
  {
   "cell_type": "markdown",
   "id": "500d6deb-87d6-41d8-9169-2a948e7d9097",
   "metadata": {},
   "source": [
    "#### 3)\n",
    "Write a function that takes as input an upper triangular matrix (U) and a vector (b) and returns a column vector x such that $ Ux = b $ using the backward substitution algorithm "
   ]
  },
  {
   "cell_type": "code",
   "execution_count": 7,
   "id": "afbcaca5-e1bd-43c4-a51c-0a39bfe11f50",
   "metadata": {},
   "outputs": [
    {
     "name": "stdout",
     "output_type": "stream",
     "text": [
      "Backward substitution for U and b: [1.19047619 0.23809524 0.66666667]\n",
      "U times the backward substitution: [3. 5. 2.]\n"
     ]
    }
   ],
   "source": [
    "import numpy as np\n",
    "U = array([\n",
    "    [ 1,  2,  2],\n",
    "    [ 0,  7,  5],\n",
    "    [ 0,  0,  3]\n",
    "])\n",
    "\n",
    "b = array([3 ,5, 2])\n",
    "\n",
    "def backward_substitute(L, z):\n",
    "\tx = []\n",
    "\tfor m in range(len(L)):\n",
    "\t\tx.insert(0,(z[::-1][m] - sum(L[::-1][m][::-1][i]*x[i] for i in range(m)))/L[::-1][m][::-1][m])\n",
    "\treturn array(x)\n",
    "    \n",
    "print(f\"Backward substitution for U and b: {backward_substitute(U, b)}\\nU times the backward substitution: {U.dot(backward_substitute(U, b))}\")"
   ]
  },
  {
   "cell_type": "markdown",
   "id": "f8c01781-94b8-4e8f-b1b6-a958d78dc7a4",
   "metadata": {},
   "source": [
    "### Exercise D\n",
    "Wrrite a function that calculates the frequency-dependent polarization $ \\alpha(\\omega) = Z^TX $. Then make a table of the polarizabilities for the three frequencies each with an error of $ \\delta\\omega = 1/2 * 10^{-3} $"
   ]
  },
  {
   "cell_type": "code",
   "execution_count": 14,
   "id": "4fcbff62-d09d-40da-a9a9-e024b22d938c",
   "metadata": {},
   "outputs": [
    {
     "ename": "ValueError",
     "evalue": "shapes (14,14) and (2,7) not aligned: 14 (dim 1) != 2 (dim 0)",
     "output_type": "error",
     "traceback": [
      "\u001b[1;31m---------------------------------------------------------------------------\u001b[0m",
      "\u001b[1;31mValueError\u001b[0m                                Traceback (most recent call last)",
      "Cell \u001b[1;32mIn[14], line 7\u001b[0m\n\u001b[0;32m      4\u001b[0m     x \u001b[38;5;241m=\u001b[39m backward_substitute(U, np\u001b[38;5;241m.\u001b[39mlinalg\u001b[38;5;241m.\u001b[39minv(L)\u001b[38;5;241m.\u001b[39mdot(z))\n\u001b[0;32m      5\u001b[0m     \u001b[38;5;28;01mreturn\u001b[39;00m z\u001b[38;5;241m.\u001b[39mtranspose()\u001b[38;5;241m.\u001b[39mdot(x)\n\u001b[1;32m----> 7\u001b[0m \u001b[38;5;28mprint\u001b[39m(\u001b[43msolve_alpha\u001b[49m\u001b[43m(\u001b[49m\u001b[38;5;241;43m1\u001b[39;49m\u001b[43m)\u001b[49m)\n\u001b[0;32m      8\u001b[0m \u001b[38;5;66;03m# WORK IN PROGRESS....\u001b[39;00m\n",
      "Cell \u001b[1;32mIn[14], line 4\u001b[0m, in \u001b[0;36msolve_alpha\u001b[1;34m(omega)\u001b[0m\n\u001b[0;32m      2\u001b[0m firstTerm \u001b[38;5;241m=\u001b[39m (E\u001b[38;5;241m-\u001b[39momega\u001b[38;5;241m*\u001b[39mS)\n\u001b[0;32m      3\u001b[0m L, U \u001b[38;5;241m=\u001b[39m LU_factorize(firstTerm)\n\u001b[1;32m----> 4\u001b[0m x \u001b[38;5;241m=\u001b[39m backward_substitute(U, \u001b[43mnp\u001b[49m\u001b[38;5;241;43m.\u001b[39;49m\u001b[43mlinalg\u001b[49m\u001b[38;5;241;43m.\u001b[39;49m\u001b[43minv\u001b[49m\u001b[43m(\u001b[49m\u001b[43mL\u001b[49m\u001b[43m)\u001b[49m\u001b[38;5;241;43m.\u001b[39;49m\u001b[43mdot\u001b[49m\u001b[43m(\u001b[49m\u001b[43mz\u001b[49m\u001b[43m)\u001b[49m)\n\u001b[0;32m      5\u001b[0m \u001b[38;5;28;01mreturn\u001b[39;00m z\u001b[38;5;241m.\u001b[39mtranspose()\u001b[38;5;241m.\u001b[39mdot(x)\n",
      "\u001b[1;31mValueError\u001b[0m: shapes (14,14) and (2,7) not aligned: 14 (dim 1) != 2 (dim 0)"
     ]
    }
   ],
   "source": [
    "def solve_alpha(omega):\n",
    "    firstTerm = (E-omega*S)\n",
    "    L, U = LU_factorize(firstTerm)\n",
    "    x = backward_substitute(U, np.linalg.inv(L).dot(z))\n",
    "    return z.transpose().dot(x)\n",
    "\n",
    "print(solve_alpha(1))\n",
    "# WORK IN PROGRESS...."
   ]
  },
  {
   "cell_type": "code",
   "execution_count": null,
   "id": "691650ef-6dd6-489d-9bad-0e773ae1a1f9",
   "metadata": {},
   "outputs": [],
   "source": []
  }
 ],
 "metadata": {
  "kernelspec": {
   "display_name": "Python 3 (ipykernel)",
   "language": "python",
   "name": "python3"
  },
  "language_info": {
   "codemirror_mode": {
    "name": "ipython",
    "version": 3
   },
   "file_extension": ".py",
   "mimetype": "text/x-python",
   "name": "python",
   "nbconvert_exporter": "python",
   "pygments_lexer": "ipython3",
   "version": "3.9.7"
  }
 },
 "nbformat": 4,
 "nbformat_minor": 5
}
