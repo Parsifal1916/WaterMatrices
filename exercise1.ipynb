{
 "cells": [
  {
   "cell_type": "markdown",
   "id": "9f9117b4-2b35-497c-98b4-807b3aa0be6a",
   "metadata": {},
   "source": [
    "### Exercise 1\n",
    "#### A)\n",
    "Write a small function that computes the condition number of a matrix under the max norm \n",
    "\n",
    "$ cond_{inf}(M) = ||M||_{inf}||M^-1||_{inf} $"
   ]
  },
  {
   "cell_type": "code",
   "execution_count": null,
   "id": "799294bc-79a4-420a-929e-a5667eb5dce2",
   "metadata": {},
   "outputs": [],
   "source": [
    "from numpy import array,append\n",
    "\n",
    "def infNorm(matrix: array) -> float:\n",
    "    '''returns the inf norm of the matrix'''\n",
    "\tassert matrix != array([]), \"The given matrix is empty\"\n",
    "\treturn max(abs(matrix)) if len(matrix.shape) == 1 else max(sum(abs(matrix)))\n",
    "\n",
    "def computeMaxNorm(matrix: array) -> float:\n",
    "    '''returns the condition number of a matrix under the max norm'''\n",
    "\treturn infNorm(matrix)*infNorm(linalg.inv(matrix))"
   ]
  },
  {
   "cell_type": "markdown",
   "id": "3c66b2cf-74a2-468d-9de0-00462fe85fda",
   "metadata": {},
   "source": [
    "For three frequencies, $ \\omega = {0.800, 1.146, 1.400} $ calculate the condition of numbers for the matrix $ E - \\omega S $.\n",
    "The right-hand-side z is given with 8 significant digits. How many significant digits could we guarantee in the solution of x if everything else were assumed exact? Why?"
   ]
  },
  {
   "cell_type": "markdown",
   "id": "8f41cebc-d11e-4ce8-bb74-89d7f8acbc35",
   "metadata": {},
   "source": [
    "##### Solution:\n",
    "We can calculate the values of the matrices E and S with the following code:"
   ]
  },
  {
   "cell_type": "code",
   "execution_count": 121,
   "id": "4f4ffcaf-3821-4311-9785-1c81eb97abd8",
   "metadata": {},
   "outputs": [],
   "source": [
    "Amat = \t[\n",
    "    [22.13831203, 0.16279204, 0.02353879, 0.02507880,-0.02243145,-0.02951967,-0.02401863],\n",
    "    [0.16279204, 29.41831006, 0.02191543,-0.06341569, 0.02192010, 0.03284020, 0.03014052],\n",
    "    [0.02353879,  0.02191543, 1.60947260,-0.01788177, 0.07075279, 0.03659182, 0.06105488],\n",
    "    [0.02507880, -0.06341569,-0.01788177, 9.36187184,-0.07751218, 0.00541094,-0.10660903],\n",
    "    [-0.02243145, 0.02192010, 0.07075279,-0.07751218, 0.71033323, 0.10958126, 0.12061597],\n",
    "    [-0.02951967, 0.03284020, 0.03659182, 0.00541094, 0.10958126, 8.38326265, 0.06673979],\n",
    "    [-0.02401863, 0.03014052, 0.06105488,-0.10660903, 0.12061597, 0.06673979, 1.15733569]];\n",
    "\n",
    "Bmat = [\n",
    "    [-0.03423002, 0.09822473,-0.00832308,-0.02524951,-0.00015116, 0.05321264, 0.01834117],\n",
    "    [ 0.09822473,-0.51929354,-0.02050445, 0.10769768,-0.02394699,-0.04550922,-0.02907560],\n",
    "    [-0.00832308,-0.02050445,-0.11285991, 0.04843759,-0.06732213,-0.08106876,-0.13042524],\n",
    "    [-0.02524951, 0.10769768, 0.04843759,-0.10760461, 0.09008724, 0.05284246, 0.10728227],\n",
    "    [-0.00015116,-0.02394699,-0.06732213, 0.09008724,-0.07596617,-0.02290627,-0.12421902],\n",
    "    [ 0.05321264,-0.04550922,-0.08106876, 0.05284246,-0.02290627,-0.07399581,-0.07509467],\n",
    "    [ 0.01834117,-0.02907560,-0.13042524, 0.10728227,-0.12421902,-0.07509467,-0.16777868]];\n",
    "\n",
    "# constructs the E matrix\n",
    "\n",
    "E = []\n",
    "\n",
    "def extendMatrx(a: list, b: list) -> list[float, ...]:\n",
    "\tarr = []\n",
    "\tfor index, item in enumerate(a):\n",
    "\t\tarr = item\n",
    "\t\tarr.extend(Bmat[index])\n",
    "\t\tyield arr\n",
    "\n",
    "E = list(extendMatrx(Amat, Bmat))\n",
    "E.extend(list(extendMatrx(Bmat, Amat)))\n",
    "E = array(E)\n",
    "\n",
    "# constructs the S matrix\n",
    "def constructS():\n",
    "    for x in range(14):\n",
    "        yield [int(x == y) * (-1 if x > 6 else 1) for y in range(14)]\n",
    "\n",
    "S = array(list(constructS()))"
   ]
  },
  {
   "cell_type": "markdown",
   "id": "532c3734-dda3-4bcb-8cd9-de3b694e588d",
   "metadata": {},
   "source": [
    "The solutions for the three frequences are given by"
   ]
  },
  {
   "cell_type": "code",
   "execution_count": null,
   "id": "0f30e50b-3b32-4450-a6e6-58be968c7281",
   "metadata": {},
   "outputs": [],
   "source": [
    "omega = [0.800, 1,146, 1,400]\n",
    "\n",
    "for f in omega: print(E-f*S)"
   ]
  },
  {
   "cell_type": "markdown",
   "id": "6332398c-07fc-43d0-83bf-32e2389a4775",
   "metadata": {},
   "source": [
    "Since some of the elements in the matrix A have more than 8 S.D. (Significant Digits) and the solution z is given with exactly 8 SD we can assume that the solution x should be provided with at least 8 SD to guarantee a solution with 8 SD"
   ]
  }
 ],
 "metadata": {
  "kernelspec": {
   "display_name": "Python 3 (ipykernel)",
   "language": "python",
   "name": "python3"
  },
  "language_info": {
   "codemirror_mode": {
    "name": "ipython",
    "version": 3
   },
   "file_extension": ".py",
   "mimetype": "text/x-python",
   "name": "python",
   "nbconvert_exporter": "python",
   "pygments_lexer": "ipython3",
   "version": "3.9.7"
  }
 },
 "nbformat": 4,
 "nbformat_minor": 5
}
